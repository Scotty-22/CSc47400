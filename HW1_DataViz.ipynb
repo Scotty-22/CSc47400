{
  "nbformat": 4,
  "nbformat_minor": 0,
  "metadata": {
    "colab": {
      "provenance": []
    },
    "kernelspec": {
      "name": "python3",
      "display_name": "Python 3"
    },
    "language_info": {
      "name": "python"
    }
  },
  "cells": [
    {
      "cell_type": "code",
      "execution_count": 40,
      "metadata": {
        "id": "Qp55-LMiWfUB"
      },
      "outputs": [],
      "source": [
        "\n",
        "\n",
        "\n"
      ]
    },
    {
      "cell_type": "markdown",
      "source": [
        "## Problem 1\n",
        "This plot shows fruit consumption for men across years.\n",
        "\n",
        "*Source: USDA ERS, Appendix B (Food At Home)*\n",
        "\n",
        "\n",
        "## Problem 2\n",
        "This plot shows dairy consumption for men and women across years.  \n",
        "\n",
        "*Source: USDA ERS, Appendix B (Food At Home)*\n",
        "\n",
        "\n",
        "## Problem 3\n",
        "This plot shows vegetable consumption for men and women across years.  \n",
        "\n",
        "*Source: USDA ERS, Appendix B (Food At Home)*\n",
        "\n",
        "\n",
        "## Problem 4\n",
        "This boxplot shows the distribution of food consumption across years.  \n",
        "\n",
        "*Source: USDA ERS, Appendix B (Food At Home)*\n",
        "\n",
        "\n"
      ],
      "metadata": {
        "id": "6lsWHY4KHQzG"
      }
    }
  ]
}